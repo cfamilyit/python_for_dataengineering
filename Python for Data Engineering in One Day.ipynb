{
 "cells": [
  {
   "cell_type": "markdown",
   "id": "67d2c8e3",
   "metadata": {},
   "source": [
    "# <center> Python for Data Engineering in One Day </center>"
   ]
  },
  {
   "cell_type": "markdown",
   "id": "e1cd9a65",
   "metadata": {},
   "source": [
    "## Python Introduction\n",
    "### Python is Programming\n",
    "### Python is a Scripting Oriented\n",
    "### Python is a Procedure Oriented\n",
    "### Python is a Object Oriented Programming\n",
    "### Python is a Modular Oriented Programming Language\n",
    "### Python was developed by Guido Van Rossum in 1991\n",
    "### Guid taken best feature from different languages like Scripting Oriented feature from Shell Scripting & Perl Scriting\n",
    "### Procedure Oriented features from C Language and Object Oriented Features from C++ and Modular Oriented features from Modula Language\n"
   ]
  },
  {
   "cell_type": "code",
   "execution_count": null,
   "id": "b764a922",
   "metadata": {},
   "outputs": [],
   "source": []
  },
  {
   "cell_type": "markdown",
   "id": "a282614e",
   "metadata": {},
   "source": [
    "### Intially people used Python for Server Side Scripting\n",
    "### Later when Data Engineering or Bigdata become popular people started looking best programming language which contains \n",
    "### Scripting + Procedure Oriented + Object Oriented Programming\n",
    "### Industry found advantages of Python"
   ]
  },
  {
   "cell_type": "code",
   "execution_count": null,
   "id": "7a1b5ab3",
   "metadata": {},
   "outputs": [],
   "source": []
  },
  {
   "cell_type": "markdown",
   "id": "c8ae1b9e",
   "metadata": {},
   "source": [
    "### First Python Programming"
   ]
  },
  {
   "cell_type": "code",
   "execution_count": 1,
   "id": "0d9a0fac",
   "metadata": {},
   "outputs": [
    {
     "name": "stdout",
     "output_type": "stream",
     "text": [
      "Welcome to CFAMILY IT\n"
     ]
    }
   ],
   "source": [
    "print(\"Welcome to CFAMILY IT\")"
   ]
  },
  {
   "cell_type": "code",
   "execution_count": null,
   "id": "6d170587",
   "metadata": {},
   "outputs": [],
   "source": []
  },
  {
   "cell_type": "markdown",
   "id": "330b06e0",
   "metadata": {},
   "source": [
    "## Python Programs we can write in two ways. They are:\n",
    "### 1. Interactive Mode -- step by step development, We use Python Shell & Jupyter Notebook\n",
    "### 2. Script Mode -- we are write all statements in one file called .py and then later we will run, Here we use Notepad, PyCHarm IDE, SPider IDE, VSCode etc..\n"
   ]
  },
  {
   "cell_type": "code",
   "execution_count": null,
   "id": "60991691",
   "metadata": {},
   "outputs": [],
   "source": []
  },
  {
   "cell_type": "markdown",
   "id": "8dc645a3",
   "metadata": {},
   "source": [
    "## Python softwares & Python development tools for Python Programming"
   ]
  },
  {
   "cell_type": "markdown",
   "id": "f45ccbaf",
   "metadata": {},
   "source": [
    "### Python Softwares\n",
    "<br>"
   ]
  },
  {
   "cell_type": "markdown",
   "id": "8bbe9f0b",
   "metadata": {},
   "source": [
    "### python.org maintans python\n",
    "### https://www.python.org/downloads/\n",
    "### Python is free & opensource\n",
    "### Based Python Opensource many vendors implemented Python & giving free & enterprise version\n",
    "### E.g:- anaconda python\n",
    "### https://www.anaconda.com/products/distribution"
   ]
  },
  {
   "cell_type": "code",
   "execution_count": null,
   "id": "2f59ddae",
   "metadata": {},
   "outputs": [],
   "source": []
  },
  {
   "cell_type": "markdown",
   "id": "236e3d69",
   "metadata": {},
   "source": [
    "## Python Development Tools"
   ]
  },
  {
   "cell_type": "markdown",
   "id": "9645e845",
   "metadata": {},
   "source": [
    "### Jupyter Notebook -- It comes by default with anconda python, if you install python from python.org then we have to use below command to download install jupyter notebook\n",
    "### pip install jupyter notebook"
   ]
  },
  {
   "cell_type": "code",
   "execution_count": null,
   "id": "f7c1d64b",
   "metadata": {},
   "outputs": [],
   "source": []
  },
  {
   "cell_type": "markdown",
   "id": "89efb130",
   "metadata": {},
   "source": [
    "### We use PyCharm IDE -- It is also mostly used ID\n",
    "### We use below link to download pycharm ide\n",
    "### https://www.jetbrains.com/pycharm/download/#section=windows"
   ]
  },
  {
   "cell_type": "code",
   "execution_count": null,
   "id": "f026e742",
   "metadata": {},
   "outputs": [],
   "source": []
  },
  {
   "cell_type": "markdown",
   "id": "51a89067",
   "metadata": {},
   "source": [
    "### Next mostly used IDE is Spider IDE\n",
    "### Spider by defaault comes with Anaconda Python, if you want, you can install"
   ]
  },
  {
   "cell_type": "code",
   "execution_count": null,
   "id": "dcc6f3fb",
   "metadata": {},
   "outputs": [],
   "source": []
  },
  {
   "cell_type": "markdown",
   "id": "062dbb01",
   "metadata": {},
   "source": [
    "### VSCode -- Visual Studio Code from Microsoft\n",
    "### Now days people are using VSCode for Python Application"
   ]
  },
  {
   "cell_type": "code",
   "execution_count": null,
   "id": "c639fd97",
   "metadata": {},
   "outputs": [],
   "source": []
  },
  {
   "cell_type": "markdown",
   "id": "0f836431",
   "metadata": {},
   "source": [
    "## List of Python Softwares installation & first python program "
   ]
  },
  {
   "cell_type": "markdown",
   "id": "b539736b",
   "metadata": {},
   "source": [
    "### Python Installation\n",
    "### First Python Program using Python Shell or Python Prompt\n",
    "## https://www.youtube.com/watch?v=uz2dgzqr8-4"
   ]
  },
  {
   "cell_type": "code",
   "execution_count": null,
   "id": "479981f8",
   "metadata": {},
   "outputs": [],
   "source": []
  },
  {
   "cell_type": "markdown",
   "id": "71617e32",
   "metadata": {},
   "source": [
    "### Anaconda Python Installation & First Python Programming using Jupyter Notebook\n",
    "### https://www.youtube.com/watch?v=bk2_svzv-88"
   ]
  },
  {
   "cell_type": "code",
   "execution_count": null,
   "id": "81864b79",
   "metadata": {},
   "outputs": [],
   "source": []
  },
  {
   "cell_type": "markdown",
   "id": "4ccf0992",
   "metadata": {},
   "source": [
    "### First Python Program using Spider IDE\n",
    "### https://www.youtube.com/watch?v=TbqfzmI1Pjw"
   ]
  },
  {
   "cell_type": "code",
   "execution_count": null,
   "id": "344cfa52",
   "metadata": {},
   "outputs": [],
   "source": []
  },
  {
   "cell_type": "markdown",
   "id": "52d5fa6a",
   "metadata": {},
   "source": [
    "### First Python Program using VSCode\n",
    "### https://www.youtube.com/watch?v=TbqfzmI1Pjw"
   ]
  },
  {
   "cell_type": "code",
   "execution_count": null,
   "id": "cb58cbbc",
   "metadata": {},
   "outputs": [],
   "source": []
  },
  {
   "cell_type": "markdown",
   "id": "8a9da908",
   "metadata": {},
   "source": [
    "## <center> Scripting Oriented Programming </center>"
   ]
  },
  {
   "cell_type": "markdown",
   "id": "a85e91ce",
   "metadata": {},
   "source": [
    "### Scripting Oriented Programming means writing sequence of statement using predefined functionalities given by python"
   ]
  },
  {
   "cell_type": "code",
   "execution_count": null,
   "id": "d2d266d0",
   "metadata": {},
   "outputs": [],
   "source": []
  },
  {
   "cell_type": "markdown",
   "id": "cff905b2",
   "metadata": {},
   "source": [
    "## Examples on Scripting Oriented Programming"
   ]
  },
  {
   "cell_type": "code",
   "execution_count": 6,
   "id": "d55734b7",
   "metadata": {},
   "outputs": [
    {
     "name": "stdout",
     "output_type": "stream",
     "text": [
      "Welcome to CFAMILY IT\n",
      "Welcome to Python WOrld..!\n",
      "This is Sreenivasulu Akkem\n",
      "I am the Founder of CFAMILY IT Solutions\n"
     ]
    }
   ],
   "source": [
    "print(\"Welcome to CFAMILY IT\")\n",
    "print(\"Welcome to Python WOrld..!\")\n",
    "print(\"This is Sreenivasulu Akkem\")\n",
    "print(\"I am the Founder of CFAMILY IT Solutions\")"
   ]
  },
  {
   "cell_type": "markdown",
   "id": "4cefd3a4",
   "metadata": {},
   "source": [
    "### To execute statements in jupyter note shell ==> shift + enter or ctrl + enter"
   ]
  },
  {
   "cell_type": "code",
   "execution_count": null,
   "id": "e5c70e09",
   "metadata": {},
   "outputs": [],
   "source": []
  },
  {
   "cell_type": "code",
   "execution_count": 8,
   "id": "3f4a3cf0",
   "metadata": {},
   "outputs": [
    {
     "name": "stdout",
     "output_type": "stream",
     "text": [
      "Enter a First Number:10\n",
      "Enter a Seond Number:5\n",
      "A is: 10\n",
      "B is: 5\n",
      "Sum of A,B is: 105\n"
     ]
    }
   ],
   "source": [
    "a = input(\"Enter a First Number:\")\n",
    "b = input(\"Enter a Seond Number:\")\n",
    "res = a+b\n",
    "print(\"A is:\",a)\n",
    "print(\"B is:\",b)\n",
    "print(\"Sum of A,B is:\",res)"
   ]
  },
  {
   "cell_type": "code",
   "execution_count": null,
   "id": "4cf9362b",
   "metadata": {},
   "outputs": [],
   "source": []
  },
  {
   "cell_type": "markdown",
   "id": "f9115d8a",
   "metadata": {},
   "source": [
    "### print() is a predefined function to print output on console\n",
    "### input() is a predefined function to read data from keyboard, it reads data in the form of string"
   ]
  },
  {
   "cell_type": "code",
   "execution_count": null,
   "id": "6d4fc435",
   "metadata": {},
   "outputs": [],
   "source": []
  },
  {
   "cell_type": "markdown",
   "id": "54266b2e",
   "metadata": {},
   "source": [
    "### In Above program it performed string concatination. So we have to perform typecasting\n",
    "### we have different function like int(),flaot(),bool(), str(), list(), set(), etc.."
   ]
  },
  {
   "cell_type": "code",
   "execution_count": null,
   "id": "8359b8d5",
   "metadata": {},
   "outputs": [],
   "source": []
  },
  {
   "cell_type": "code",
   "execution_count": 9,
   "id": "ac0f5885",
   "metadata": {},
   "outputs": [
    {
     "name": "stdout",
     "output_type": "stream",
     "text": [
      "Enter a First Number:10\n",
      "Enter a Seond Number:5\n",
      "A is: 10\n",
      "B is: 5\n",
      "Sum of A,B is: 15\n"
     ]
    }
   ],
   "source": [
    "a = int(input(\"Enter a First Number:\"))\n",
    "b = int(input(\"Enter a Seond Number:\"))\n",
    "res = a+b\n",
    "print(\"A is:\",a)\n",
    "print(\"B is:\",b)\n",
    "print(\"Sum of A,B is:\",res)"
   ]
  },
  {
   "cell_type": "code",
   "execution_count": null,
   "id": "ea3242cc",
   "metadata": {},
   "outputs": [],
   "source": []
  },
  {
   "cell_type": "markdown",
   "id": "f2e14139",
   "metadata": {},
   "source": [
    "## Python Programming Rules"
   ]
  },
  {
   "cell_type": "markdown",
   "id": "82def4dd",
   "metadata": {},
   "source": [
    "### Rule1 : Every statement should start at cloumn position 0"
   ]
  },
  {
   "cell_type": "code",
   "execution_count": 14,
   "id": "99082f51",
   "metadata": {},
   "outputs": [
    {
     "name": "stdout",
     "output_type": "stream",
     "text": [
      "Welcome to CFAMILY IT\n"
     ]
    }
   ],
   "source": [
    "print(\"Welcome to CFAMILY IT\")"
   ]
  },
  {
   "cell_type": "code",
   "execution_count": 21,
   "id": "bd16c0b6",
   "metadata": {},
   "outputs": [
    {
     "name": "stdout",
     "output_type": "stream",
     "text": [
      "Welcome to CFAMILY IT2\n"
     ]
    }
   ],
   "source": [
    " print(\"Welcome to CFAMILY IT2\")"
   ]
  },
  {
   "cell_type": "code",
   "execution_count": 23,
   "id": "196f742e",
   "metadata": {},
   "outputs": [
    {
     "ename": "IndentationError",
     "evalue": "unexpected indent (1192123857.py, line 2)",
     "output_type": "error",
     "traceback": [
      "\u001b[1;36m  File \u001b[1;32m\"C:\\Users\\Admin\\AppData\\Local\\Temp\\ipykernel_13644\\1192123857.py\"\u001b[1;36m, line \u001b[1;32m2\u001b[0m\n\u001b[1;33m    print(\"Welcome to CFAMILY IT2\")\u001b[0m\n\u001b[1;37m    ^\u001b[0m\n\u001b[1;31mIndentationError\u001b[0m\u001b[1;31m:\u001b[0m unexpected indent\n"
     ]
    }
   ],
   "source": [
    "print(\"Welcome to CFAMILY IT\")\n",
    "    print(\"Welcome to CFAMILY IT2\")\n",
    "        print(\"Welcome to CFAMILY IT3\")\n",
    "            print(\"Welcome to CFAMILY IT4\")"
   ]
  },
  {
   "cell_type": "markdown",
   "id": "e92e1e5f",
   "metadata": {},
   "source": [
    "### Rule2 -- Starting of a Block"
   ]
  },
  {
   "cell_type": "code",
   "execution_count": 15,
   "id": "49adb092",
   "metadata": {},
   "outputs": [],
   "source": [
    "if 10>5:\n",
    "    pass"
   ]
  },
  {
   "cell_type": "code",
   "execution_count": null,
   "id": "3f7b506d",
   "metadata": {},
   "outputs": [],
   "source": []
  },
  {
   "cell_type": "markdown",
   "id": "1bb620f8",
   "metadata": {},
   "source": [
    "### Rule3 -- Inside Block All Statements should follow same indentation"
   ]
  },
  {
   "cell_type": "code",
   "execution_count": 16,
   "id": "7c92764e",
   "metadata": {},
   "outputs": [
    {
     "name": "stdout",
     "output_type": "stream",
     "text": [
      "Welcome1\n",
      "Welcome2\n",
      "Welcome3\n"
     ]
    }
   ],
   "source": [
    "## Valid \n",
    "if 10>5:\n",
    "    print(\"Welcome1\")\n",
    "    print(\"Welcome2\")\n",
    "    print(\"Welcome3\")"
   ]
  },
  {
   "cell_type": "code",
   "execution_count": 17,
   "id": "2df86e47",
   "metadata": {},
   "outputs": [
    {
     "ename": "IndentationError",
     "evalue": "unexpected indent (3990201.py, line 4)",
     "output_type": "error",
     "traceback": [
      "\u001b[1;36m  File \u001b[1;32m\"C:\\Users\\Admin\\AppData\\Local\\Temp\\ipykernel_13644\\3990201.py\"\u001b[1;36m, line \u001b[1;32m4\u001b[0m\n\u001b[1;33m    print(\"Welcome2\")\u001b[0m\n\u001b[1;37m    ^\u001b[0m\n\u001b[1;31mIndentationError\u001b[0m\u001b[1;31m:\u001b[0m unexpected indent\n"
     ]
    }
   ],
   "source": [
    "## InValid \n",
    "if 10>5:\n",
    "    print(\"Welcome1\")\n",
    "      print(\"Welcome2\")\n",
    "         print(\"Welcome3\")"
   ]
  },
  {
   "cell_type": "markdown",
   "id": "7589aa74",
   "metadata": {},
   "source": [
    "### Rule4 : End of Block -- There is no separate statement for end of block"
   ]
  },
  {
   "cell_type": "code",
   "execution_count": 18,
   "id": "eec1659c",
   "metadata": {},
   "outputs": [
    {
     "name": "stdout",
     "output_type": "stream",
     "text": [
      "Welcome1\n",
      "Welcome2\n",
      "Welcome3\n"
     ]
    }
   ],
   "source": [
    "### Case1\n",
    "if 10>5:\n",
    "    print(\"Welcome1\")\n",
    "    print(\"Welcome2\")\n",
    "    print(\"Welcome3\")"
   ]
  },
  {
   "cell_type": "code",
   "execution_count": 19,
   "id": "108d7d39",
   "metadata": {},
   "outputs": [
    {
     "name": "stdout",
     "output_type": "stream",
     "text": [
      "Welcome1\n",
      "Welcome2\n",
      "Welcome3\n",
      "Out of Block\n"
     ]
    }
   ],
   "source": [
    "###Case2\n",
    "if 10>5:\n",
    "    print(\"Welcome1\")\n",
    "    print(\"Welcome2\")\n",
    "    print(\"Welcome3\")\n",
    "print(\"Out of Block\")"
   ]
  },
  {
   "cell_type": "code",
   "execution_count": 20,
   "id": "2c2d8833",
   "metadata": {},
   "outputs": [
    {
     "name": "stdout",
     "output_type": "stream",
     "text": [
      "Out of Block\n"
     ]
    }
   ],
   "source": [
    "if 10<5:\n",
    "    print(\"Welcome1\")\n",
    "    print(\"Welcome2\")\n",
    "    print(\"Welcome3\")\n",
    "print(\"Out of Block\")"
   ]
  },
  {
   "cell_type": "code",
   "execution_count": null,
   "id": "7cdc225d",
   "metadata": {},
   "outputs": [],
   "source": []
  },
  {
   "cell_type": "markdown",
   "id": "8c51e289",
   "metadata": {},
   "source": [
    "## Identifier"
   ]
  },
  {
   "cell_type": "markdown",
   "id": "fa390936",
   "metadata": {},
   "source": [
    "### Name in a Python Program called identifier, it may be variable name, function and class name"
   ]
  },
  {
   "cell_type": "code",
   "execution_count": 10,
   "id": "c64870b6",
   "metadata": {},
   "outputs": [
    {
     "name": "stdout",
     "output_type": "stream",
     "text": [
      "Akkem\n",
      "Sreenivasulu\n",
      "200\n",
      "20\n"
     ]
    }
   ],
   "source": [
    "### Valid Identifiers\n",
    "firstName = \"Akkem\"\n",
    "lastName = \"Sreenivasulu\"\n",
    "a10 = 200\n",
    "_a = 20\n",
    "print(firstName)\n",
    "print(lastName)\n",
    "print(a10)\n",
    "print(_a)"
   ]
  },
  {
   "cell_type": "markdown",
   "id": "536391a2",
   "metadata": {},
   "source": [
    "### invalid identifers"
   ]
  },
  {
   "cell_type": "code",
   "execution_count": 11,
   "id": "f89bc0bd",
   "metadata": {},
   "outputs": [
    {
     "ename": "SyntaxError",
     "evalue": "invalid syntax (3418451324.py, line 1)",
     "output_type": "error",
     "traceback": [
      "\u001b[1;36m  File \u001b[1;32m\"C:\\Users\\Admin\\AppData\\Local\\Temp\\ipykernel_13644\\3418451324.py\"\u001b[1;36m, line \u001b[1;32m1\u001b[0m\n\u001b[1;33m    10a = 100\u001b[0m\n\u001b[1;37m      ^\u001b[0m\n\u001b[1;31mSyntaxError\u001b[0m\u001b[1;31m:\u001b[0m invalid syntax\n"
     ]
    }
   ],
   "source": [
    "10a = 100\n",
    "print(10a)"
   ]
  },
  {
   "cell_type": "code",
   "execution_count": 12,
   "id": "2f17af43",
   "metadata": {},
   "outputs": [
    {
     "ename": "SyntaxError",
     "evalue": "invalid syntax (346406162.py, line 1)",
     "output_type": "error",
     "traceback": [
      "\u001b[1;36m  File \u001b[1;32m\"C:\\Users\\Admin\\AppData\\Local\\Temp\\ipykernel_13644\\346406162.py\"\u001b[1;36m, line \u001b[1;32m1\u001b[0m\n\u001b[1;33m    $a = 20\u001b[0m\n\u001b[1;37m    ^\u001b[0m\n\u001b[1;31mSyntaxError\u001b[0m\u001b[1;31m:\u001b[0m invalid syntax\n"
     ]
    }
   ],
   "source": [
    "$a = 20\n",
    "print($a)"
   ]
  },
  {
   "cell_type": "code",
   "execution_count": null,
   "id": "41975552",
   "metadata": {},
   "outputs": [],
   "source": []
  },
  {
   "cell_type": "markdown",
   "id": "5da23ee7",
   "metadata": {},
   "source": [
    "## Keywords"
   ]
  },
  {
   "cell_type": "markdown",
   "id": "bbc0fa71",
   "metadata": {},
   "source": [
    "### In Python some words reserved for special purpose & special meaning"
   ]
  },
  {
   "cell_type": "code",
   "execution_count": 13,
   "id": "ddc7258c",
   "metadata": {},
   "outputs": [
    {
     "name": "stdout",
     "output_type": "stream",
     "text": [
      "['False', 'None', 'True', '__peg_parser__', 'and', 'as', 'assert', 'async', 'await', 'break', 'class', 'continue', 'def', 'del', 'elif', 'else', 'except', 'finally', 'for', 'from', 'global', 'if', 'import', 'in', 'is', 'lambda', 'nonlocal', 'not', 'or', 'pass', 'raise', 'return', 'try', 'while', 'with', 'yield']\n"
     ]
    }
   ],
   "source": [
    "import keyword\n",
    "print(keyword.kwlist)"
   ]
  },
  {
   "cell_type": "code",
   "execution_count": null,
   "id": "30784487",
   "metadata": {},
   "outputs": [],
   "source": []
  },
  {
   "cell_type": "markdown",
   "id": "ead00ac5",
   "metadata": {},
   "source": [
    "## Datatypes"
   ]
  },
  {
   "cell_type": "markdown",
   "id": "0ff8121d",
   "metadata": {},
   "source": [
    "### Python is a Dynamically Typed Language, based on the right side value datatype assigned to variable"
   ]
  },
  {
   "cell_type": "code",
   "execution_count": 24,
   "id": "8f71f721",
   "metadata": {},
   "outputs": [
    {
     "name": "stdout",
     "output_type": "stream",
     "text": [
      "10\n",
      "<class 'int'>\n",
      "10.5\n",
      "<class 'float'>\n",
      "akkem\n",
      "<class 'str'>\n",
      "sreenivasulu\n",
      "<class 'str'>\n",
      "True\n",
      "<class 'bool'>\n"
     ]
    }
   ],
   "source": [
    "a = 10\n",
    "b = 10.5\n",
    "c = \"akkem\"\n",
    "d = 'sreenivasulu'\n",
    "e = True\n",
    "print(a)\n",
    "print(type(a))\n",
    "\n",
    "print(b)\n",
    "print(type(b))\n",
    "\n",
    "print(c)\n",
    "print(type(c))\n",
    "\n",
    "print(d)\n",
    "print(type(d))\n",
    "\n",
    "print(e)\n",
    "print(type(e))"
   ]
  },
  {
   "cell_type": "code",
   "execution_count": null,
   "id": "24515f1f",
   "metadata": {},
   "outputs": [],
   "source": []
  },
  {
   "cell_type": "markdown",
   "id": "74f90457",
   "metadata": {},
   "source": [
    "### type() is predefined it returns type of variable."
   ]
  },
  {
   "cell_type": "code",
   "execution_count": null,
   "id": "1dbeab04",
   "metadata": {},
   "outputs": [],
   "source": []
  },
  {
   "cell_type": "markdown",
   "id": "8b0ca454",
   "metadata": {},
   "source": [
    "### There are two types of datatypes they are:\n",
    "### 1. Simple Datatypes -- allows only one value\n",
    "### 2. Collection Datatypes -- allows multiple values"
   ]
  },
  {
   "cell_type": "code",
   "execution_count": null,
   "id": "ece5a373",
   "metadata": {},
   "outputs": [],
   "source": []
  },
  {
   "cell_type": "markdown",
   "id": "8b22e788",
   "metadata": {},
   "source": [
    "## Simple Datatypes -- allows only one value\n",
    "### We have different Simple Datatypes like\n",
    "### int\n",
    "### float\n",
    "### string -- str\n",
    "### bool -- boolean\n",
    "### complex -- used only in scintific allication"
   ]
  },
  {
   "cell_type": "code",
   "execution_count": null,
   "id": "8426c33b",
   "metadata": {},
   "outputs": [],
   "source": []
  },
  {
   "cell_type": "code",
   "execution_count": 26,
   "id": "8b44c1ac",
   "metadata": {},
   "outputs": [
    {
     "name": "stdout",
     "output_type": "stream",
     "text": [
      "101\n",
      "<class 'int'>\n",
      "Sreenivasulu Akkem\n",
      "<class 'str'>\n",
      "20000.5\n",
      "<class 'float'>\n",
      "m\n",
      "<class 'str'>\n",
      "False\n",
      "<class 'bool'>\n"
     ]
    }
   ],
   "source": [
    "empNo = 101\n",
    "eName = \"Sreenivasulu Akkem\"\n",
    "sal = 20000.50\n",
    "gender = 'm'\n",
    "isManager = False\n",
    "\n",
    "print(empNo)\n",
    "print(type(empNo))\n",
    "print(eName)\n",
    "print(type(eName))\n",
    "print(sal)\n",
    "print(type(sal))\n",
    "print(gender)\n",
    "print(type(gender))\n",
    "print(isManager)\n",
    "print(type(isManager))"
   ]
  },
  {
   "cell_type": "code",
   "execution_count": null,
   "id": "95408d58",
   "metadata": {},
   "outputs": [],
   "source": []
  },
  {
   "cell_type": "markdown",
   "id": "397f1b7f",
   "metadata": {},
   "source": [
    "### All numeric or decimal values without fractional part is called int type\n",
    "### All numeric or decimal values with fractional part is called float type\n",
    "### String values we can represent in ' ' or \" \"\n",
    "### There are two boolean values True & False"
   ]
  },
  {
   "cell_type": "code",
   "execution_count": null,
   "id": "d47916ed",
   "metadata": {},
   "outputs": [],
   "source": []
  },
  {
   "cell_type": "markdown",
   "id": "ee271389",
   "metadata": {},
   "source": [
    "## Collection Types -- Allows Multiple Values\n",
    "### We have different Collection Types. They are:\n",
    "### 1. tuple\n",
    "### 2. list\n",
    "### 3. set\n",
    "### 4. frozenset\n",
    "### 5. dict -- dictionary"
   ]
  },
  {
   "cell_type": "code",
   "execution_count": null,
   "id": "670134db",
   "metadata": {},
   "outputs": [],
   "source": []
  },
  {
   "cell_type": "markdown",
   "id": "030ce3f6",
   "metadata": {},
   "source": [
    "## Tuple Collection"
   ]
  },
  {
   "cell_type": "code",
   "execution_count": 28,
   "id": "a26b3a72",
   "metadata": {},
   "outputs": [
    {
     "name": "stdout",
     "output_type": "stream",
     "text": [
      "(10, 20, 30, 40, 50)\n",
      "<class 'tuple'>\n",
      "('101', 'Sreenivasulu Akkem', 20000.5, 'm', 11)\n",
      "<class 'tuple'>\n"
     ]
    }
   ],
   "source": [
    "### tuple we can represent using ()\n",
    "### tuple allows same type of data & different kind of data\n",
    "t1 = (10,20,30,40,50)\n",
    "t2 = ('101',\"Sreenivasulu Akkem\",20000.50,'m',11)\n",
    "print(t1)\n",
    "print(type(t1))\n",
    "print(t2)\n",
    "print(type(t2))\n",
    "### Recommended is different kind of data."
   ]
  },
  {
   "cell_type": "code",
   "execution_count": null,
   "id": "2d928290",
   "metadata": {},
   "outputs": [],
   "source": []
  },
  {
   "cell_type": "markdown",
   "id": "5822adaa",
   "metadata": {},
   "source": [
    "## list collection"
   ]
  },
  {
   "cell_type": "code",
   "execution_count": 29,
   "id": "cca58e38",
   "metadata": {},
   "outputs": [
    {
     "name": "stdout",
     "output_type": "stream",
     "text": [
      "[10, 20, 30, 40, 50]\n",
      "<class 'list'>\n",
      "['101', 'Sreenivasulu Akkem', 20000.5, 'm', 11]\n",
      "<class 'list'>\n"
     ]
    }
   ],
   "source": [
    "### list we can represent using []\n",
    "### list allows same type of data & different kind of data\n",
    "l1 = [10,20,30,40,50]\n",
    "l2 = ['101',\"Sreenivasulu Akkem\",20000.50,'m',11]\n",
    "print(l1)\n",
    "print(type(l1))\n",
    "print(l2)\n",
    "print(type(l2))\n",
    "### Recommended is same kind of data."
   ]
  },
  {
   "cell_type": "code",
   "execution_count": null,
   "id": "a0bfd36b",
   "metadata": {},
   "outputs": [],
   "source": []
  },
  {
   "cell_type": "markdown",
   "id": "883ecce4",
   "metadata": {},
   "source": [
    "### Difference between tuple and list"
   ]
  },
  {
   "cell_type": "markdown",
   "id": "018f0582",
   "metadata": {},
   "source": [
    "### Tuple is immutable means we can not change\n",
    "### List is mutable means changable"
   ]
  },
  {
   "cell_type": "code",
   "execution_count": 31,
   "id": "030e7d9f",
   "metadata": {},
   "outputs": [
    {
     "name": "stdout",
     "output_type": "stream",
     "text": [
      "(10, 20, 30, 40, 50)\n",
      "<class 'tuple'>\n"
     ]
    },
    {
     "ename": "AttributeError",
     "evalue": "'tuple' object has no attribute 'append'",
     "output_type": "error",
     "traceback": [
      "\u001b[1;31m---------------------------------------------------------------------------\u001b[0m",
      "\u001b[1;31mAttributeError\u001b[0m                            Traceback (most recent call last)",
      "\u001b[1;32m~\\AppData\\Local\\Temp\\ipykernel_13644\\2585668442.py\u001b[0m in \u001b[0;36m<module>\u001b[1;34m\u001b[0m\n\u001b[0;32m      2\u001b[0m \u001b[0mprint\u001b[0m\u001b[1;33m(\u001b[0m\u001b[0mt1\u001b[0m\u001b[1;33m)\u001b[0m\u001b[1;33m\u001b[0m\u001b[1;33m\u001b[0m\u001b[0m\n\u001b[0;32m      3\u001b[0m \u001b[0mprint\u001b[0m\u001b[1;33m(\u001b[0m\u001b[0mtype\u001b[0m\u001b[1;33m(\u001b[0m\u001b[0mt1\u001b[0m\u001b[1;33m)\u001b[0m\u001b[1;33m)\u001b[0m\u001b[1;33m\u001b[0m\u001b[1;33m\u001b[0m\u001b[0m\n\u001b[1;32m----> 4\u001b[1;33m \u001b[0mt1\u001b[0m\u001b[1;33m.\u001b[0m\u001b[0mappend\u001b[0m\u001b[1;33m(\u001b[0m\u001b[1;36m30\u001b[0m\u001b[1;33m)\u001b[0m\u001b[1;33m\u001b[0m\u001b[1;33m\u001b[0m\u001b[0m\n\u001b[0m",
      "\u001b[1;31mAttributeError\u001b[0m: 'tuple' object has no attribute 'append'"
     ]
    }
   ],
   "source": [
    "t1 = (10,20,30,40,50)\n",
    "print(t1)\n",
    "print(type(t1))\n",
    "t1.append(30)"
   ]
  },
  {
   "cell_type": "code",
   "execution_count": 32,
   "id": "989edc62",
   "metadata": {},
   "outputs": [
    {
     "ename": "AttributeError",
     "evalue": "'tuple' object has no attribute 'remove'",
     "output_type": "error",
     "traceback": [
      "\u001b[1;31m---------------------------------------------------------------------------\u001b[0m",
      "\u001b[1;31mAttributeError\u001b[0m                            Traceback (most recent call last)",
      "\u001b[1;32m~\\AppData\\Local\\Temp\\ipykernel_13644\\3786319683.py\u001b[0m in \u001b[0;36m<module>\u001b[1;34m\u001b[0m\n\u001b[1;32m----> 1\u001b[1;33m \u001b[0mt1\u001b[0m\u001b[1;33m.\u001b[0m\u001b[0mremove\u001b[0m\u001b[1;33m(\u001b[0m\u001b[1;36m40\u001b[0m\u001b[1;33m)\u001b[0m\u001b[1;33m\u001b[0m\u001b[1;33m\u001b[0m\u001b[0m\n\u001b[0m",
      "\u001b[1;31mAttributeError\u001b[0m: 'tuple' object has no attribute 'remove'"
     ]
    }
   ],
   "source": [
    "t1.remove(40)"
   ]
  },
  {
   "cell_type": "code",
   "execution_count": null,
   "id": "cda56d49",
   "metadata": {},
   "outputs": [],
   "source": []
  },
  {
   "cell_type": "code",
   "execution_count": 33,
   "id": "23a3edfc",
   "metadata": {},
   "outputs": [
    {
     "name": "stdout",
     "output_type": "stream",
     "text": [
      "[10, 20, 30, 40, 50]\n",
      "<class 'list'>\n"
     ]
    }
   ],
   "source": [
    "l1 = [10,20,30,40,50]\n",
    "print(l1)\n",
    "print(type(l1))"
   ]
  },
  {
   "cell_type": "code",
   "execution_count": 34,
   "id": "9eb06681",
   "metadata": {},
   "outputs": [
    {
     "name": "stdout",
     "output_type": "stream",
     "text": [
      "[10, 20, 30, 40, 50, 60]\n",
      "<class 'list'>\n"
     ]
    }
   ],
   "source": [
    "l1.append(60)\n",
    "print(l1)\n",
    "print(type(l1))"
   ]
  },
  {
   "cell_type": "code",
   "execution_count": 35,
   "id": "660b46bc",
   "metadata": {},
   "outputs": [
    {
     "name": "stdout",
     "output_type": "stream",
     "text": [
      "[10, 20, 40, 50, 60]\n",
      "<class 'list'>\n"
     ]
    }
   ],
   "source": [
    "l1.remove(30)\n",
    "print(l1)\n",
    "print(type(l1))"
   ]
  },
  {
   "cell_type": "code",
   "execution_count": null,
   "id": "7fa78576",
   "metadata": {},
   "outputs": [],
   "source": []
  },
  {
   "cell_type": "markdown",
   "id": "dcb3d31d",
   "metadata": {},
   "source": [
    "## Set Collection"
   ]
  },
  {
   "cell_type": "code",
   "execution_count": 36,
   "id": "558cc0ef",
   "metadata": {},
   "outputs": [
    {
     "name": "stdout",
     "output_type": "stream",
     "text": [
      "{50, 20, 40, 10, 30}\n",
      "<class 'set'>\n"
     ]
    }
   ],
   "source": [
    "### Set is similar to list -- list allows duplicate but set does not allow duplicates\n",
    "### Set we can represent using {}\n",
    "s1 = {10,20,30,40,50}\n",
    "print(s1)\n",
    "print(type(s1))"
   ]
  },
  {
   "cell_type": "code",
   "execution_count": 37,
   "id": "1302c2fa",
   "metadata": {},
   "outputs": [
    {
     "name": "stdout",
     "output_type": "stream",
     "text": [
      "[10, 20, 30, 40, 50, 20, 30, 40]\n",
      "<class 'list'>\n",
      "{50, 20, 40, 10, 30}\n",
      "<class 'set'>\n"
     ]
    }
   ],
   "source": [
    "l1 = [10,20,30,40,50,20,30,40]\n",
    "print(l1)\n",
    "print(type(l1))\n",
    "s1 = {10,20,30,40,50,20,30,40}\n",
    "print(s1)\n",
    "print(type(s1))"
   ]
  },
  {
   "cell_type": "code",
   "execution_count": null,
   "id": "56d21985",
   "metadata": {},
   "outputs": [],
   "source": []
  },
  {
   "cell_type": "markdown",
   "id": "a83ed8a6",
   "metadata": {},
   "source": [
    "## frozenset collection"
   ]
  },
  {
   "cell_type": "code",
   "execution_count": 42,
   "id": "986e5f7f",
   "metadata": {},
   "outputs": [
    {
     "name": "stdout",
     "output_type": "stream",
     "text": [
      "{50, 20, 40, 10, 30}\n",
      "<class 'set'>\n",
      "frozenset({50, 20, 40, 10, 30})\n",
      "<class 'frozenset'>\n"
     ]
    }
   ],
   "source": [
    "### is Similar to set\n",
    "s1 = {10,20,30,40,50}\n",
    "print(s1)\n",
    "print(type(s1))\n",
    "fs = frozenset(s1)\n",
    "print(fs)\n",
    "print(type(fs))"
   ]
  },
  {
   "cell_type": "code",
   "execution_count": null,
   "id": "5fabc620",
   "metadata": {},
   "outputs": [],
   "source": []
  },
  {
   "cell_type": "code",
   "execution_count": 46,
   "id": "cd948a7b",
   "metadata": {},
   "outputs": [
    {
     "name": "stdout",
     "output_type": "stream",
     "text": [
      "{50, 20, 40, 10}\n",
      "<class 'set'>\n"
     ]
    }
   ],
   "source": [
    "### difference between set & frozenset == set is mutable but frozenset is immuable\n",
    "s1.remove(30)\n",
    "print(s1)\n",
    "print(type(s1))"
   ]
  },
  {
   "cell_type": "code",
   "execution_count": 45,
   "id": "6ada8c52",
   "metadata": {},
   "outputs": [
    {
     "ename": "AttributeError",
     "evalue": "'frozenset' object has no attribute 'remove'",
     "output_type": "error",
     "traceback": [
      "\u001b[1;31m---------------------------------------------------------------------------\u001b[0m",
      "\u001b[1;31mAttributeError\u001b[0m                            Traceback (most recent call last)",
      "\u001b[1;32m~\\AppData\\Local\\Temp\\ipykernel_13644\\828048563.py\u001b[0m in \u001b[0;36m<module>\u001b[1;34m\u001b[0m\n\u001b[1;32m----> 1\u001b[1;33m \u001b[0mfs\u001b[0m\u001b[1;33m.\u001b[0m\u001b[0mremove\u001b[0m\u001b[1;33m(\u001b[0m\u001b[1;36m30\u001b[0m\u001b[1;33m)\u001b[0m\u001b[1;33m\u001b[0m\u001b[1;33m\u001b[0m\u001b[0m\n\u001b[0m\u001b[0;32m      2\u001b[0m \u001b[0mprint\u001b[0m\u001b[1;33m(\u001b[0m\u001b[0mfs\u001b[0m\u001b[1;33m)\u001b[0m\u001b[1;33m\u001b[0m\u001b[1;33m\u001b[0m\u001b[0m\n\u001b[0;32m      3\u001b[0m \u001b[0mprint\u001b[0m\u001b[1;33m(\u001b[0m\u001b[0mtype\u001b[0m\u001b[1;33m(\u001b[0m\u001b[0mfs\u001b[0m\u001b[1;33m)\u001b[0m\u001b[1;33m)\u001b[0m\u001b[1;33m\u001b[0m\u001b[1;33m\u001b[0m\u001b[0m\n",
      "\u001b[1;31mAttributeError\u001b[0m: 'frozenset' object has no attribute 'remove'"
     ]
    }
   ],
   "source": [
    "fs.remove(30)\n",
    "print(fs)\n",
    "print(type(fs))"
   ]
  },
  {
   "cell_type": "code",
   "execution_count": null,
   "id": "2635349f",
   "metadata": {},
   "outputs": [],
   "source": []
  },
  {
   "cell_type": "markdown",
   "id": "6ac305bd",
   "metadata": {},
   "source": [
    "### Dictionary Collection -- Allows key,value pairs"
   ]
  },
  {
   "cell_type": "markdown",
   "id": "84399b24",
   "metadata": {},
   "source": [
    "### We can represent dictionary using {}"
   ]
  },
  {
   "cell_type": "code",
   "execution_count": 39,
   "id": "02937cb2",
   "metadata": {},
   "outputs": [
    {
     "name": "stdout",
     "output_type": "stream",
     "text": [
      "{'empno': 101, 'ename': 'Sreenivasulu Akkem', 'sal': 20000.5, 'gender': 'm', 'dno': 10}\n",
      "<class 'dict'>\n"
     ]
    }
   ],
   "source": [
    "emp = {\n",
    "    \"empno\":101,\n",
    "    \"ename\": \"Sreenivasulu Akkem\",\n",
    "    \"sal\":20000.50,\n",
    "    \"gender\":'m',\n",
    "    \"dno\":10\n",
    "}\n",
    "print(emp)\n",
    "print(type(emp))"
   ]
  },
  {
   "cell_type": "code",
   "execution_count": null,
   "id": "d0b54e88",
   "metadata": {},
   "outputs": [],
   "source": []
  },
  {
   "cell_type": "markdown",
   "id": "6c8fc14b",
   "metadata": {},
   "source": [
    "## Control Statements in Python"
   ]
  },
  {
   "cell_type": "markdown",
   "id": "3b28fa62",
   "metadata": {},
   "source": [
    "### To control the flow of a program\n",
    "### We have differen types of Control statement. They are:\n",
    "### 1. Iterative control statements like if, if-else,if-elif-else lader\n",
    "### 2. looping control statement like while, for\n",
    "### 3. Transfer Control statements like break, continue and pass"
   ]
  },
  {
   "cell_type": "code",
   "execution_count": null,
   "id": "116d3d3c",
   "metadata": {},
   "outputs": [],
   "source": []
  },
  {
   "cell_type": "markdown",
   "id": "44116970",
   "metadata": {},
   "source": [
    "## Iterative control statements like if, if-else,if-elif-else lader"
   ]
  },
  {
   "cell_type": "code",
   "execution_count": 47,
   "id": "bab2181b",
   "metadata": {},
   "outputs": [
    {
     "name": "stdout",
     "output_type": "stream",
     "text": [
      "Enter a First Number:10\n",
      "Enter a Seond Number:5\n",
      "A is Big\n"
     ]
    }
   ],
   "source": [
    "a = int(input(\"Enter a First Number:\"))\n",
    "b = int(input(\"Enter a Seond Number:\"))\n",
    "if a>b:\n",
    "    print(\"A is Big\")\n",
    "    \n",
    "if b>a:\n",
    "    print(\"B is Big\")"
   ]
  },
  {
   "cell_type": "code",
   "execution_count": 48,
   "id": "eef8bdb4",
   "metadata": {},
   "outputs": [
    {
     "name": "stdout",
     "output_type": "stream",
     "text": [
      "Enter a First Number:10\n",
      "Enter a Seond Number:20\n",
      "B is Big\n"
     ]
    }
   ],
   "source": [
    "a = int(input(\"Enter a First Number:\"))\n",
    "b = int(input(\"Enter a Seond Number:\"))\n",
    "if a>b:\n",
    "    print(\"A is Big\")\n",
    "else:\n",
    "    print(\"B is Big\")"
   ]
  },
  {
   "cell_type": "code",
   "execution_count": 49,
   "id": "080b3b53",
   "metadata": {},
   "outputs": [
    {
     "name": "stdout",
     "output_type": "stream",
     "text": [
      "Enter a First Number:10\n",
      "Enter a Seond Number:20\n",
      "Enter a Third Number:30\n",
      "C is Big\n"
     ]
    }
   ],
   "source": [
    "a = int(input(\"Enter a First Number:\"))\n",
    "b = int(input(\"Enter a Seond Number:\"))\n",
    "c = int(input(\"Enter a Third Number:\"))\n",
    "if a>b and a>c:\n",
    "    print(\"A is Big\")\n",
    "elif b>c:\n",
    "    print(\"B is Big\")\n",
    "else:\n",
    "    print(\"C is Big\")"
   ]
  },
  {
   "cell_type": "code",
   "execution_count": null,
   "id": "57c41ea2",
   "metadata": {},
   "outputs": [],
   "source": []
  },
  {
   "cell_type": "markdown",
   "id": "a73b8a8d",
   "metadata": {},
   "source": [
    "## looping control statement like while, for"
   ]
  },
  {
   "cell_type": "markdown",
   "id": "488b6ab3",
   "metadata": {},
   "source": [
    "### while -- Print values from 1 to 10"
   ]
  },
  {
   "cell_type": "code",
   "execution_count": 50,
   "id": "464108e7",
   "metadata": {},
   "outputs": [
    {
     "name": "stdout",
     "output_type": "stream",
     "text": [
      "1\n",
      "2\n",
      "3\n",
      "4\n",
      "5\n",
      "6\n",
      "7\n",
      "8\n",
      "9\n",
      "10\n"
     ]
    }
   ],
   "source": [
    "i = 1\n",
    "while i<=10:\n",
    "    print(i)\n",
    "    i = i+1"
   ]
  },
  {
   "cell_type": "code",
   "execution_count": null,
   "id": "1ddc6edd",
   "metadata": {},
   "outputs": [],
   "source": []
  },
  {
   "cell_type": "markdown",
   "id": "b078273c",
   "metadata": {},
   "source": [
    "### for -- Print values from 1 to 10"
   ]
  },
  {
   "cell_type": "code",
   "execution_count": 51,
   "id": "96177348",
   "metadata": {},
   "outputs": [
    {
     "name": "stdout",
     "output_type": "stream",
     "text": [
      "1\n",
      "2\n",
      "3\n",
      "4\n",
      "5\n",
      "6\n",
      "7\n",
      "8\n",
      "9\n",
      "10\n"
     ]
    }
   ],
   "source": [
    "for v in range(1,11):\n",
    "    print(v)"
   ]
  },
  {
   "cell_type": "code",
   "execution_count": null,
   "id": "f4373e5c",
   "metadata": {},
   "outputs": [],
   "source": []
  },
  {
   "cell_type": "markdown",
   "id": "e514c500",
   "metadata": {},
   "source": [
    "### For is recommended to iterate collection of values."
   ]
  },
  {
   "cell_type": "code",
   "execution_count": 52,
   "id": "0de5046b",
   "metadata": {},
   "outputs": [
    {
     "name": "stdout",
     "output_type": "stream",
     "text": [
      "10\n",
      "20\n",
      "30\n",
      "40\n",
      "50\n"
     ]
    }
   ],
   "source": [
    "t1 = (10,20,30,40,50)\n",
    "for v in t1:\n",
    "    print(v)"
   ]
  },
  {
   "cell_type": "code",
   "execution_count": 54,
   "id": "1d2705b9",
   "metadata": {},
   "outputs": [
    {
     "name": "stdout",
     "output_type": "stream",
     "text": [
      "10\n",
      "20\n",
      "30\n",
      "40\n",
      "50\n"
     ]
    }
   ],
   "source": [
    "l1 = [10,20,30,40,50]\n",
    "for v in l1:\n",
    "    print(v)"
   ]
  },
  {
   "cell_type": "code",
   "execution_count": 55,
   "id": "6d48e604",
   "metadata": {},
   "outputs": [
    {
     "name": "stdout",
     "output_type": "stream",
     "text": [
      "50\n",
      "20\n",
      "40\n",
      "10\n",
      "30\n"
     ]
    }
   ],
   "source": [
    "s1 = {10,20,30,40,50}\n",
    "for v in s1:\n",
    "    print(v)"
   ]
  },
  {
   "cell_type": "code",
   "execution_count": 56,
   "id": "be040662",
   "metadata": {},
   "outputs": [
    {
     "name": "stdout",
     "output_type": "stream",
     "text": [
      "empno ... 101\n",
      "ename ... Sreenivasulu Akkem\n",
      "sal ... 20000.5\n",
      "gender ... m\n",
      "dno ... 10\n"
     ]
    }
   ],
   "source": [
    "emp = {\n",
    "    \"empno\":101,\n",
    "    \"ename\": \"Sreenivasulu Akkem\",\n",
    "    \"sal\":20000.50,\n",
    "    \"gender\":'m',\n",
    "    \"dno\":10\n",
    "}\n",
    "for key,value in emp.items():\n",
    "    print(key,'...',value)"
   ]
  },
  {
   "cell_type": "code",
   "execution_count": null,
   "id": "7b07f621",
   "metadata": {},
   "outputs": [],
   "source": []
  },
  {
   "cell_type": "markdown",
   "id": "236a6623",
   "metadata": {},
   "source": [
    "### Transfer Control statements like break, continue and pass"
   ]
  },
  {
   "cell_type": "code",
   "execution_count": 58,
   "id": "f4d268cc",
   "metadata": {},
   "outputs": [
    {
     "name": "stdout",
     "output_type": "stream",
     "text": [
      "1\n",
      "2\n",
      "3\n",
      "4\n"
     ]
    }
   ],
   "source": [
    "### break\n",
    "for v in range(1,11):\n",
    "    if v==5:\n",
    "        break\n",
    "    print(v)"
   ]
  },
  {
   "cell_type": "code",
   "execution_count": 59,
   "id": "59878593",
   "metadata": {},
   "outputs": [
    {
     "name": "stdout",
     "output_type": "stream",
     "text": [
      "1\n",
      "2\n",
      "3\n",
      "4\n",
      "6\n",
      "7\n",
      "8\n",
      "9\n",
      "10\n"
     ]
    }
   ],
   "source": [
    "### continue\n",
    "for v in range(1,11):\n",
    "    if v==5:\n",
    "        continue\n",
    "    print(v)"
   ]
  },
  {
   "cell_type": "code",
   "execution_count": 60,
   "id": "20f30aea",
   "metadata": {},
   "outputs": [],
   "source": [
    "### pass\n",
    "if 10>5:\n",
    "    pass"
   ]
  },
  {
   "cell_type": "code",
   "execution_count": 61,
   "id": "1fe00d7e",
   "metadata": {},
   "outputs": [],
   "source": [
    "def f1():\n",
    "    pass"
   ]
  },
  {
   "cell_type": "code",
   "execution_count": 62,
   "id": "c6c56af4",
   "metadata": {},
   "outputs": [],
   "source": [
    "class Test:\n",
    "    pass"
   ]
  },
  {
   "cell_type": "code",
   "execution_count": null,
   "id": "49daf25e",
   "metadata": {},
   "outputs": [],
   "source": []
  },
  {
   "cell_type": "markdown",
   "id": "0255e438",
   "metadata": {},
   "source": [
    "## <center> Procedure Oriented Programming </center>"
   ]
  },
  {
   "cell_type": "markdown",
   "id": "9e689a94",
   "metadata": {},
   "source": [
    "### procedure means function or method\n",
    "### functions means collection of related statements to perform a particular task"
   ]
  },
  {
   "cell_type": "code",
   "execution_count": null,
   "id": "31460992",
   "metadata": {},
   "outputs": [],
   "source": []
  },
  {
   "cell_type": "code",
   "execution_count": 64,
   "id": "b76532c6",
   "metadata": {},
   "outputs": [
    {
     "name": "stdout",
     "output_type": "stream",
     "text": [
      "Welcome to CFAMILY IT\n",
      "Welcome to Python WOrld\n",
      "This is Sreenivasulu Akkkem\n"
     ]
    }
   ],
   "source": [
    "### function without paramters\n",
    "### 1. Function Definition\n",
    "def greeting():\n",
    "    print(\"Welcome to CFAMILY IT\")\n",
    "    print(\"Welcome to Python WOrld\")\n",
    "    print(\"This is Sreenivasulu Akkkem\")\n",
    "    \n",
    "### 2. FUnction call\n",
    "greeting()"
   ]
  },
  {
   "cell_type": "code",
   "execution_count": null,
   "id": "1ed3e0a9",
   "metadata": {},
   "outputs": [],
   "source": []
  },
  {
   "cell_type": "code",
   "execution_count": 65,
   "id": "2a3bd7e7",
   "metadata": {},
   "outputs": [
    {
     "name": "stdout",
     "output_type": "stream",
     "text": [
      "Enter a First Number:10\n",
      "Enter a Seond Number:20\n",
      "A is: 10\n",
      "B is: 20\n",
      "Sum of A,B is: 30\n"
     ]
    }
   ],
   "source": [
    "### function with paramters\n",
    "### 1. Function Definition\n",
    "def sum(a,b):\n",
    "    print(\"A is:\",a)\n",
    "    print(\"B is:\",b)\n",
    "    print(\"Sum of A,B is:\",(a+b))\n",
    "    \n",
    "### 2. FUnction call\n",
    "a = int(input(\"Enter a First Number:\"))\n",
    "b = int(input(\"Enter a Seond Number:\"))\n",
    "sum(a,b)"
   ]
  },
  {
   "cell_type": "code",
   "execution_count": 66,
   "id": "e9bccb40",
   "metadata": {},
   "outputs": [
    {
     "name": "stdout",
     "output_type": "stream",
     "text": [
      "Enter a First Number:10\n",
      "Enter a Seond Number:5\n",
      "A is: 10\n",
      "B is: 5\n",
      "Sum of A,B is: 15\n"
     ]
    }
   ],
   "source": [
    "### function with paramters and return type\n",
    "### 1. Function Definition\n",
    "def sum(a,b):\n",
    "    res = a+b\n",
    "    return res\n",
    "    \n",
    "### 2. FUnction call\n",
    "a = int(input(\"Enter a First Number:\"))\n",
    "b = int(input(\"Enter a Seond Number:\"))\n",
    "print(\"A is:\",a)\n",
    "print(\"B is:\",b)\n",
    "result = sum(a,b)\n",
    "print(\"Sum of A,B is:\",result)"
   ]
  },
  {
   "cell_type": "code",
   "execution_count": null,
   "id": "264e394c",
   "metadata": {},
   "outputs": [],
   "source": []
  },
  {
   "cell_type": "markdown",
   "id": "aa746825",
   "metadata": {},
   "source": [
    "## Lambda Functions\n",
    "### A Function without Name is called Lambda Functions\n",
    "### Lambda Functions implementation in only one line"
   ]
  },
  {
   "cell_type": "code",
   "execution_count": 68,
   "id": "35ca6b89",
   "metadata": {},
   "outputs": [
    {
     "name": "stdout",
     "output_type": "stream",
     "text": [
      "Enter a First Number:10\n",
      "Accepted Number is: 10\n",
      "Squre of Accepted Number is: 100\n"
     ]
    }
   ],
   "source": [
    "### lambda function with one argument\n",
    "### lambda function definition\n",
    "squre = lambda x: x*x\n",
    "    \n",
    "### lambda function call\n",
    "n = int(input(\"Enter a First Number:\"))\n",
    "print(\"Accepted Number is:\",n)\n",
    "print(\"Squre of Accepted Number is:\",squre(n))"
   ]
  },
  {
   "cell_type": "code",
   "execution_count": null,
   "id": "02dc0e7c",
   "metadata": {},
   "outputs": [],
   "source": []
  },
  {
   "cell_type": "code",
   "execution_count": 69,
   "id": "01d72fad",
   "metadata": {},
   "outputs": [
    {
     "name": "stdout",
     "output_type": "stream",
     "text": [
      "Enter a First Number:10\n",
      "Enter a Seond Number:5\n",
      "A is: 10\n",
      "B is: 5\n",
      "Big Value is: 10\n"
     ]
    }
   ],
   "source": [
    "### lambda function with multiple arguments\n",
    "### lambda function definition\n",
    "big = lambda x,y:x if x>y else y\n",
    "    \n",
    "### lambda function call\n",
    "a = int(input(\"Enter a First Number:\"))\n",
    "b = int(input(\"Enter a Seond Number:\"))\n",
    "print(\"A is:\",a)\n",
    "print(\"B is:\",b)\n",
    "print(\"Big Value is:\",big(a,b))"
   ]
  },
  {
   "cell_type": "code",
   "execution_count": null,
   "id": "d3c4680a",
   "metadata": {},
   "outputs": [],
   "source": []
  },
  {
   "cell_type": "markdown",
   "id": "074b2b31",
   "metadata": {},
   "source": [
    "## <center> Python Object Oriented Programming - Class and Object <center>"
   ]
  },
  {
   "cell_type": "markdown",
   "id": "8fab696d",
   "metadata": {},
   "source": [
    "### Object Oriented Programming means writing everything inside a class and creating objects\n",
    "### class means user defined datatypes or class is a logical name or class is a blue print for creation of object or class is a collection of objects.\n",
    "### object means instance of a class. instance means memory allocated in ram."
   ]
  },
  {
   "cell_type": "code",
   "execution_count": null,
   "id": "3a55b6c7",
   "metadata": {},
   "outputs": [],
   "source": []
  },
  {
   "cell_type": "code",
   "execution_count": 72,
   "id": "5c6119fc",
   "metadata": {},
   "outputs": [],
   "source": [
    "### Class definition\n",
    "class Employee:\n",
    "    def __init__(self):\n",
    "        print(\"Inside a Constructor\")\n",
    "    \n",
    "    def display(self):\n",
    "        print(\"Inside a Function\")"
   ]
  },
  {
   "cell_type": "code",
   "execution_count": null,
   "id": "213c507e",
   "metadata": {},
   "outputs": [],
   "source": []
  },
  {
   "cell_type": "markdown",
   "id": "966dc404",
   "metadata": {},
   "source": [
    "### Constructor executes automatically when we create an object"
   ]
  },
  {
   "cell_type": "code",
   "execution_count": 71,
   "id": "08dd2355",
   "metadata": {},
   "outputs": [
    {
     "name": "stdout",
     "output_type": "stream",
     "text": [
      "Inside a Constructor\n"
     ]
    }
   ],
   "source": [
    "### Object creation\n",
    "e1 = Employee()"
   ]
  },
  {
   "cell_type": "code",
   "execution_count": null,
   "id": "5eeb5393",
   "metadata": {},
   "outputs": [],
   "source": []
  },
  {
   "cell_type": "markdown",
   "id": "8e683bf6",
   "metadata": {},
   "source": [
    "### Functions of a class, we have to call explictly using reference variable of an object"
   ]
  },
  {
   "cell_type": "code",
   "execution_count": 74,
   "id": "fd4c6e1f",
   "metadata": {},
   "outputs": [
    {
     "name": "stdout",
     "output_type": "stream",
     "text": [
      "Inside a FUnction\n"
     ]
    }
   ],
   "source": [
    "e1.display()"
   ]
  },
  {
   "cell_type": "code",
   "execution_count": null,
   "id": "17be5890",
   "metadata": {},
   "outputs": [],
   "source": []
  },
  {
   "cell_type": "markdown",
   "id": "6f478591",
   "metadata": {},
   "source": [
    "### Why Constructors and Why Functions"
   ]
  },
  {
   "cell_type": "markdown",
   "id": "d4b1cc64",
   "metadata": {},
   "source": [
    "### Inside Constructor it is recommended to write intialization of object logic\n",
    "### Inside function it is re ommended to write business logic"
   ]
  },
  {
   "cell_type": "code",
   "execution_count": null,
   "id": "ba17854b",
   "metadata": {},
   "outputs": [],
   "source": []
  },
  {
   "cell_type": "code",
   "execution_count": 76,
   "id": "be490832",
   "metadata": {},
   "outputs": [
    {
     "name": "stdout",
     "output_type": "stream",
     "text": [
      "Enter a empno:101\n",
      "Enter a ename:sreenivas\n",
      "Enter a salary:20000.50\n",
      "Inside a Constructor\n",
      "Inside a FUnction\n",
      "Empno is: 101\n",
      "EName is: sreenivas\n",
      "Salry is: 20000.5\n"
     ]
    }
   ],
   "source": [
    "### Class definition\n",
    "class Employee:\n",
    "    def __init__(self,empno,ename,sal):\n",
    "        print(\"Inside a Constructor\")\n",
    "        self.empno=empno\n",
    "        self.ename=ename\n",
    "        self.sal=sal\n",
    "    \n",
    "    def display(self):\n",
    "        print(\"Inside a Function\")\n",
    "        print(\"Empno is:\",self.empno)\n",
    "        print(\"EName is:\",self.ename)\n",
    "        print(\"Salry is:\",self.sal)\n",
    "        \n",
    "### Object creation\n",
    "empno = int(input(\"Enter a empno:\"))\n",
    "ename = input(\"Enter a ename:\")\n",
    "sal = float(input(\"Enter a salary:\"))\n",
    "e1 = Employee(empno,ename,sal)\n",
    "e1.display()"
   ]
  },
  {
   "cell_type": "markdown",
   "id": "abf0db8e",
   "metadata": {},
   "source": [
    "### self keyword can used to connect current object and can create variables inside a object"
   ]
  },
  {
   "cell_type": "code",
   "execution_count": null,
   "id": "9bb08f25",
   "metadata": {},
   "outputs": [],
   "source": []
  },
  {
   "cell_type": "markdown",
   "id": "2ab1135e",
   "metadata": {},
   "source": [
    "## <center> Modular Oriented Programming -- Module, Packages and Libraries </center>"
   ]
  },
  {
   "cell_type": "markdown",
   "id": "bea51f1c",
   "metadata": {},
   "source": [
    "### What is Module"
   ]
  },
  {
   "cell_type": "markdown",
   "id": "439a1570",
   "metadata": {},
   "source": [
    "### It is a .py file, it may contains variables, functions & classes\n",
    "### The main advantage of module is re-usability"
   ]
  },
  {
   "cell_type": "code",
   "execution_count": null,
   "id": "536734e9",
   "metadata": {},
   "outputs": [],
   "source": []
  },
  {
   "cell_type": "code",
   "execution_count": 78,
   "id": "93b2455a",
   "metadata": {},
   "outputs": [],
   "source": [
    "### arithmetic.py\n",
    "a = 10\n",
    "b = 10\n",
    "\n",
    "def sum():\n",
    "\tprint(\"A is:\",a)\n",
    "\tprint(\"B is:\",b)\n",
    "\tprint(\"Sum of A,B is:\",(a+b))\n",
    "\t\n",
    "def sub():\n",
    "\tprint(\"A is:\",a)\n",
    "\tprint(\"B is:\",b)\n",
    "\tprint(\"Sub of A,B is:\",(a-b))\n",
    "\t\n",
    "def mul():\n",
    "\tprint(\"A is:\",a)\n",
    "\tprint(\"B is:\",b)\n",
    "\tprint(\"Multiplication of A,B is:\",(a*b))\n",
    "\t\n",
    "def div():\n",
    "\tprint(\"A is:\",a)\n",
    "\tprint(\"B is:\",b)\n",
    "\tprint(\"Division of A,B is:\",(a//b))"
   ]
  },
  {
   "cell_type": "code",
   "execution_count": null,
   "id": "ca5b3744",
   "metadata": {},
   "outputs": [],
   "source": []
  },
  {
   "cell_type": "code",
   "execution_count": 79,
   "id": "127b76e3",
   "metadata": {},
   "outputs": [
    {
     "name": "stdout",
     "output_type": "stream",
     "text": [
      "A is: 10\n",
      "B is: 10\n",
      "******************************\n",
      "A is: 10\n",
      "B is: 10\n",
      "Sum of A,B is: 20\n",
      "******************************\n",
      "A is: 10\n",
      "B is: 10\n",
      "Sub of A,B is: 0\n",
      "******************************\n",
      "A is: 10\n",
      "B is: 10\n",
      "Multiplication of A,B is: 100\n",
      "******************************\n",
      "A is: 10\n",
      "B is: 10\n",
      "Division of A,B is: 1\n"
     ]
    }
   ],
   "source": [
    "## test.py\n",
    "import arithmetic\n",
    "print(\"A is:\",a)\n",
    "print(\"B is:\",b)\n",
    "print(\"*\"*30)\n",
    "sum()\n",
    "print(\"*\"*30)\n",
    "sub()\n",
    "print(\"*\"*30)\n",
    "mul()\n",
    "print(\"*\"*30)\n",
    "div()"
   ]
  },
  {
   "cell_type": "code",
   "execution_count": 80,
   "id": "52d5ef38",
   "metadata": {},
   "outputs": [
    {
     "name": "stdout",
     "output_type": "stream",
     "text": [
      "A is: 10\n",
      "B is: 5\n",
      "******************************\n",
      "A is: 10\n",
      "B is: 5\n",
      "Sum of A,B is: 15\n",
      "******************************\n",
      "A is: 10\n",
      "B is: 5\n",
      "Sub of A,B is: 5\n",
      "******************************\n",
      "A is: 10\n",
      "B is: 5\n",
      "Multiplication of A,B is: 50\n",
      "******************************\n",
      "A is: 10\n",
      "B is: 5\n",
      "Division of A,B is: 2\n"
     ]
    }
   ],
   "source": [
    "import arithmetic\n",
    "print(\"A is:\",arithmetic.a)\n",
    "print(\"B is:\",arithmetic.b)\n",
    "print(\"*\"*30)\n",
    "arithmetic.sum()\n",
    "print(\"*\"*30)\n",
    "arithmetic.sub()\n",
    "print(\"*\"*30)\n",
    "arithmetic.mul()\n",
    "print(\"*\"*30)\n",
    "arithmetic.div()"
   ]
  },
  {
   "cell_type": "code",
   "execution_count": null,
   "id": "494a257a",
   "metadata": {},
   "outputs": [],
   "source": []
  },
  {
   "cell_type": "markdown",
   "id": "b3854a74",
   "metadata": {},
   "source": [
    "## What are Packages in Python"
   ]
  },
  {
   "cell_type": "markdown",
   "id": "29f09ffb",
   "metadata": {},
   "source": [
    "### Package is a collection related modules and sub-packages"
   ]
  },
  {
   "cell_type": "markdown",
   "id": "f68e7f4f",
   "metadata": {},
   "source": [
    "### c:\\\n",
    "###     |--cfamilyit\n",
    "###           |-- arithmetic.py\n",
    "###           |-- xyz.py\n",
    "###           |-- abc\n",
    "###                |-- test.py\n",
    "###                |-- __init__.py\n",
    "###           |-- __init__.py\n",
    "### Every package contains __init__.py file but it is optional from python 3.5.x onwards"
   ]
  },
  {
   "cell_type": "code",
   "execution_count": null,
   "id": "4334cca0",
   "metadata": {},
   "outputs": [],
   "source": []
  },
  {
   "cell_type": "code",
   "execution_count": null,
   "id": "189266a7",
   "metadata": {},
   "outputs": [],
   "source": [
    "### Accssing Package Members\n",
    "from cfamilyt import arithmetic\n",
    "print(\"A is:\",arithmetic.a)\n",
    "print(\"B is:\",arithmetic.b)\n",
    "print(\"*\"*30)\n",
    "arithmetic.sum()\n",
    "print(\"*\"*30)\n",
    "arithmetic.sub()\n",
    "print(\"*\"*30)\n",
    "arithmetic.mul()\n",
    "print(\"*\"*30)\n",
    "arithmetic.div()"
   ]
  },
  {
   "cell_type": "code",
   "execution_count": null,
   "id": "a619b92c",
   "metadata": {},
   "outputs": [],
   "source": [
    "from python_examples import *\n",
    "print(\"A is:\",arithmetic.a)\n",
    "print(\"B is:\",arithmetic.b)\n",
    "print(\"*\"*30)\n",
    "arithmetic.sum()\n",
    "print(\"*\"*30)\n",
    "arithmetic.sub()\n",
    "print(\"*\"*30)\n",
    "arithmetic.mul()\n",
    "print(\"*\"*30)\n",
    "arithmetic.div()"
   ]
  },
  {
   "cell_type": "code",
   "execution_count": null,
   "id": "17797395",
   "metadata": {},
   "outputs": [],
   "source": []
  },
  {
   "cell_type": "markdown",
   "id": "f63b6279",
   "metadata": {},
   "source": [
    "### What are Python Libraries"
   ]
  },
  {
   "cell_type": "code",
   "execution_count": null,
   "id": "f799a701",
   "metadata": {},
   "outputs": [],
   "source": [
    "### Python Library means it is a collection of related Modules and packages\n",
    "### In Python Libraries comes in the form of .zip or .egg format"
   ]
  }
 ],
 "metadata": {
  "kernelspec": {
   "display_name": "Python 3 (ipykernel)",
   "language": "python",
   "name": "python3"
  },
  "language_info": {
   "codemirror_mode": {
    "name": "ipython",
    "version": 3
   },
   "file_extension": ".py",
   "mimetype": "text/x-python",
   "name": "python",
   "nbconvert_exporter": "python",
   "pygments_lexer": "ipython3",
   "version": "3.9.13"
  }
 },
 "nbformat": 4,
 "nbformat_minor": 5
}
